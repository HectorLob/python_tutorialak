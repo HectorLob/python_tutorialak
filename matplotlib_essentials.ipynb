{
 "cells": [
  {
   "cell_type": "code",
   "execution_count": null,
   "id": "fef36dcb",
   "metadata": {},
   "outputs": [],
   "source": [
    "import numpy as np\n",
    "import matplotlib.pyplot as plt"
   ]
  },
  {
   "attachments": {},
   "cell_type": "markdown",
   "id": "beb1b155-999d-4bf7-8314-99a73bd05679",
   "metadata": {},
   "source": [
    "Tutorial from:\n",
    "\n",
    "https://www.youtube.com/watch?v=cTJBJH8hacc"
   ]
  },
  {
   "attachments": {},
   "cell_type": "markdown",
   "id": "d62f43a9",
   "metadata": {},
   "source": [
    "# Quick Plotting"
   ]
  },
  {
   "attachments": {},
   "cell_type": "markdown",
   "id": "18c73714",
   "metadata": {},
   "source": [
    "## Line Plots"
   ]
  },
  {
   "attachments": {},
   "cell_type": "markdown",
   "id": "550dbcb5",
   "metadata": {},
   "source": [
    "Simple plotting commands to look at data quickly"
   ]
  },
  {
   "cell_type": "code",
   "execution_count": null,
   "id": "1bc5b0eb",
   "metadata": {},
   "outputs": [],
   "source": [
    "x = np.linspace(0,15,30)\n",
    "y = np.sin(x) + 0.1*np.random.randn(len(x))"
   ]
  },
  {
   "cell_type": "code",
   "execution_count": null,
   "id": "e6046ed4",
   "metadata": {},
   "outputs": [],
   "source": [
    "plt.plot(x,y)"
   ]
  },
  {
   "attachments": {},
   "cell_type": "markdown",
   "id": "c9208625",
   "metadata": {},
   "source": [
    "# Making Plots Actually Look Nice\n",
    "\n",
    "If one has SciencePlots (https://github.com/garrettj403/SciencePlots) installed has additional options for matplotlib"
   ]
  },
  {
   "cell_type": "code",
   "execution_count": null,
   "id": "7afd4d86",
   "metadata": {},
   "outputs": [],
   "source": [
    "import sys\n",
    "if 'google.colab' in sys.modules:\n",
    "  !pip install SciencePlots\n",
    "  import scienceplots\n",
    "  plt.style.use(['science', 'notebook', 'grid'])"
   ]
  },
  {
   "cell_type": "code",
   "execution_count": null,
   "id": "f3650616",
   "metadata": {},
   "outputs": [],
   "source": [
    "plt.plot(x,y, 'o--', color='purple', lw=2, ms=10)"
   ]
  },
  {
   "attachments": {},
   "cell_type": "markdown",
   "id": "0cf15be0",
   "metadata": {},
   "source": [
    "Figure size"
   ]
  },
  {
   "cell_type": "code",
   "execution_count": null,
   "id": "4b68f3e5",
   "metadata": {},
   "outputs": [],
   "source": [
    "plt.figure(figsize=(8,3))\n",
    "plt.plot(x,y)"
   ]
  },
  {
   "attachments": {},
   "cell_type": "markdown",
   "id": "91878c3e",
   "metadata": {},
   "source": [
    "Axis labels"
   ]
  },
  {
   "cell_type": "code",
   "execution_count": null,
   "id": "6a0050a9",
   "metadata": {},
   "outputs": [],
   "source": [
    "plt.figure(figsize=(8,3))\n",
    "plt.plot(x,y)\n",
    "plt.xlabel('Time [s]', fontsize=16)\n",
    "plt.ylabel('Voltage [V]')\n",
    "plt.title('Voltage in 3rd Electrode')\n",
    "plt.show()"
   ]
  },
  {
   "attachments": {},
   "cell_type": "markdown",
   "id": "1adcbe1d",
   "metadata": {},
   "source": [
    "Legend"
   ]
  },
  {
   "cell_type": "code",
   "execution_count": null,
   "id": "b199bb6f",
   "metadata": {},
   "outputs": [],
   "source": [
    "plt.figure(figsize=(8,3))\n",
    "plt.plot(x,y, label='Component 1')\n",
    "plt.xlabel('Time [s]', fontsize=16)\n",
    "plt.ylabel('Voltage [V]')\n",
    "plt.title('Voltage in 3rd Electrode')\n",
    "plt.legend(loc='lower right', fontsize=18)\n",
    "plt.show()"
   ]
  },
  {
   "attachments": {},
   "cell_type": "markdown",
   "id": "fdb5f5d6",
   "metadata": {},
   "source": [
    "Easy to have multiple lines on same plot"
   ]
  },
  {
   "cell_type": "code",
   "execution_count": null,
   "id": "0adc10d8",
   "metadata": {},
   "outputs": [],
   "source": [
    "x2 = np.linspace(0, 15, 100)\n",
    "y2 = np.sin(x2)"
   ]
  },
  {
   "cell_type": "code",
   "execution_count": null,
   "id": "2ff3777b",
   "metadata": {},
   "outputs": [],
   "source": [
    "plt.figure(figsize=(8,3))\n",
    "plt.plot(x,y, 'o', label='Data', zorder=100)\n",
    "plt.plot(x2,y2, label='Fit')\n",
    "plt.xlabel('Time [s]', fontsize=16)\n",
    "plt.ylabel('Voltage [V]')\n",
    "plt.title('Voltage in 3rd Electrode')\n",
    "plt.legend(loc='lower right', fontsize=12)\n",
    "plt.show()"
   ]
  },
  {
   "attachments": {},
   "cell_type": "markdown",
   "id": "b67e9da2",
   "metadata": {},
   "source": [
    "$x$ and $y$ limits"
   ]
  },
  {
   "cell_type": "code",
   "execution_count": null,
   "id": "d4303e96",
   "metadata": {},
   "outputs": [],
   "source": [
    "plt.figure(figsize=(8,3))\n",
    "plt.plot(x,y, 'o', label='Data', zorder=100)\n",
    "plt.plot(x2,y2, label='Fit')\n",
    "plt.xlabel('Time [s]', fontsize=16)\n",
    "plt.ylabel('Voltage [V]')\n",
    "plt.title('Voltage in 3rd Electrode')\n",
    "plt.legend(loc='upper right', fontsize=12, ncol=2)\n",
    "plt.ylim(top=2)\n",
    "plt.show()"
   ]
  },
  {
   "attachments": {},
   "cell_type": "markdown",
   "id": "d6804b09",
   "metadata": {},
   "source": [
    "## Histograms"
   ]
  },
  {
   "cell_type": "code",
   "execution_count": null,
   "id": "c2ea25ea",
   "metadata": {},
   "outputs": [],
   "source": [
    "res = np.random.randn(1000)*0.2 + 0.4"
   ]
  },
  {
   "attachments": {},
   "cell_type": "markdown",
   "id": "fcc29027",
   "metadata": {},
   "source": [
    "Quick Histogram"
   ]
  },
  {
   "cell_type": "code",
   "execution_count": null,
   "id": "8c18ba69",
   "metadata": {},
   "outputs": [],
   "source": [
    "plt.figure(figsize=(8,3))\n",
    "plt.hist(res)\n",
    "plt.show()"
   ]
  },
  {
   "attachments": {},
   "cell_type": "markdown",
   "id": "bd2bfb36",
   "metadata": {},
   "source": [
    "Change number of bins"
   ]
  },
  {
   "cell_type": "code",
   "execution_count": null,
   "id": "077c4d3e",
   "metadata": {},
   "outputs": [],
   "source": [
    "plt.figure(figsize=(8,3))\n",
    "plt.hist(res, bins=30)\n",
    "plt.show()"
   ]
  },
  {
   "attachments": {},
   "cell_type": "markdown",
   "id": "51cefeea",
   "metadata": {},
   "source": [
    "Convert to density plot"
   ]
  },
  {
   "cell_type": "code",
   "execution_count": null,
   "id": "27b398c8",
   "metadata": {},
   "outputs": [],
   "source": [
    "plt.figure(figsize=(8,3))\n",
    "plt.hist(res, bins=30, density=True)\n",
    "plt.show()"
   ]
  },
  {
   "attachments": {},
   "cell_type": "markdown",
   "id": "b07a2297",
   "metadata": {},
   "source": [
    "Differnt style of bins (useful for plotting multiple histograms)"
   ]
  },
  {
   "cell_type": "code",
   "execution_count": null,
   "id": "30f80792",
   "metadata": {},
   "outputs": [],
   "source": [
    "res2 = np.random.randn(1000)*0.2 + 0.4"
   ]
  },
  {
   "cell_type": "code",
   "execution_count": null,
   "id": "689a715b",
   "metadata": {},
   "outputs": [],
   "source": [
    "plt.figure(figsize=(8,3))\n",
    "plt.hist(res, bins=30, density=True, histtype='step')\n",
    "plt.hist(res2, bins=30, density=True, histtype='step')\n",
    "plt.xlabel('$\\hat{E}-E$', fontsize=20)\n",
    "plt.ylabel('Frequency')\n",
    "plt.show()"
   ]
  },
  {
   "attachments": {},
   "cell_type": "markdown",
   "id": "fd47ad98",
   "metadata": {},
   "source": [
    "# A More Advanced API\n",
    "\n",
    "For more complicated plots, such as\n",
    "\n",
    "* Multiple subplots on 1 figure\n",
    "* Conveniently adding text to plots\n",
    "* Creating animations\n",
    "\n",
    "one needs to use a slightly more advanced API"
   ]
  },
  {
   "attachments": {},
   "cell_type": "markdown",
   "id": "ce5687e1",
   "metadata": {},
   "source": [
    "## Single Axes in one Figure"
   ]
  },
  {
   "cell_type": "code",
   "execution_count": null,
   "id": "abc11627",
   "metadata": {},
   "outputs": [],
   "source": [
    "fig, ax = plt.subplots(1, 1, figsize=(12,4))\n",
    "ax.plot(x, y, 'o--', color='r', lw=0.4, ms=3)\n",
    "ax.text(0.1, 0.1, 'text here', transform=ax.transAxes)\n",
    "ax.set_xlabel('Time [s]')\n",
    "ax.set_ylabel(r'$\\frac{d}{dx} f(x)$', fontsize=15)\n",
    "plt.show()"
   ]
  },
  {
   "attachments": {},
   "cell_type": "markdown",
   "id": "4b4b36d2",
   "metadata": {},
   "source": [
    "## Multiple axes in 1 figure"
   ]
  },
  {
   "cell_type": "code",
   "execution_count": null,
   "id": "8008d7d1",
   "metadata": {},
   "outputs": [],
   "source": [
    "fig, axes = plt.subplots(3, 2, figsize=(8,8))\n",
    "ax = axes[0][0]\n",
    "ax.plot(x, y, 'o--', color='r', lw=0.4, ms=3)\n",
    "ax.text(0.1, 0.1, 'text here', transform=ax.transAxes)\n",
    "ax = axes[1][1]\n",
    "ax.hist(res, bins=30, density=True, histtype='step', label='C1')\n",
    "ax.hist(res2, bins=30, density=True, histtype='step', label='C1')\n",
    "ax.set_xlabel('$\\hat{E}-E$')\n",
    "ax.legend()\n",
    "fig.tight_layout()\n",
    "fig.suptitle('Title of All Plots', y=1.03, fontsize=25)\n",
    "plt.show()"
   ]
  },
  {
   "attachments": {},
   "cell_type": "markdown",
   "id": "b0b80596",
   "metadata": {},
   "source": [
    "Can make x-ticks smaller"
   ]
  },
  {
   "cell_type": "code",
   "execution_count": null,
   "id": "f04d5ddd",
   "metadata": {},
   "outputs": [],
   "source": [
    "plt.style.use(['science', 'notebook', 'grid'])\n",
    "fig, ax = plt.subplots(1, 1, figsize=(8,3))\n",
    "ax.plot(x, y, 'o--', color='r', lw=1, ms=5)\n",
    "ax.text(0.1, 0.1, 'text here', transform=ax.transAxes)\n",
    "ax.set_xlabel('Time [s]')\n",
    "ax.set_ylabel(r'$\\frac{d}{dx} f(x)$', fontsize=15)\n",
    "ax.tick_params(axis='both', which='major', labelsize=10)\n",
    "ax.grid('minor')\n",
    "plt.show()"
   ]
  },
  {
   "attachments": {},
   "cell_type": "markdown",
   "id": "eb6f634c",
   "metadata": {},
   "source": [
    "# Example\n",
    "\n",
    "Creating the following plot"
   ]
  },
  {
   "cell_type": "code",
   "execution_count": null,
   "id": "e3d99ce5",
   "metadata": {},
   "outputs": [],
   "source": [
    "res_a1 = 0.2*np.random.randn(1000)+0.4\n",
    "res_b1 = 0.25*np.random.randn(1000)+0.4\n",
    "res_a2 = 0.21*np.random.randn(1000)+0.3\n",
    "res_b2 = 0.22*np.random.randn(1000)+0.3"
   ]
  },
  {
   "attachments": {},
   "cell_type": "markdown",
   "id": "47ff3b7b",
   "metadata": {},
   "source": [
    "Good habit to come up with complicated strings beforehand"
   ]
  },
  {
   "cell_type": "code",
   "execution_count": null,
   "id": "e1456802",
   "metadata": {},
   "outputs": [],
   "source": [
    "textstr1 = '\\n'.join((\n",
    "    r'$\\sigma_a=%.4f$' % (np.std(res_a1)),\n",
    "    r'$\\sigma_b=%.4f$' % (np.std(res_b1))))\n",
    "\n",
    "textstr2 = '\\n'.join((\n",
    "    r'$\\sigma_a=%.4f$' % (np.std(res_a2)),\n",
    "    r'$\\sigma_b=%.4f$' % (np.std(res_b2))))"
   ]
  },
  {
   "attachments": {},
   "cell_type": "markdown",
   "id": "ead1c1c3",
   "metadata": {},
   "source": [
    "Make plot"
   ]
  },
  {
   "cell_type": "code",
   "execution_count": null,
   "id": "9bcecc80",
   "metadata": {},
   "outputs": [],
   "source": [
    "fig, axes = plt.subplots(1, 2, figsize=(10,3.5))\n",
    "ax = axes[0]\n",
    "ax.hist(res_a1, bins=30, density=True, histtype='step', label='Method a', color='blue')\n",
    "ax.hist(res_b1, bins=30, density=True, histtype='step', label='Method b', color='red')\n",
    "ax.text(0.05, 0.81, textstr1, transform=ax.transAxes,\n",
    "       bbox=dict(facecolor='white', edgecolor='black'), size=12)\n",
    "\n",
    "ax.legend(fontsize=10, fancybox=False, edgecolor='black')\n",
    "ax.set_ylabel('Frequency')\n",
    "ax.set_title('Trial 1')\n",
    "ax = axes[1]\n",
    "ax.hist(res_a2, bins=30, density=True, histtype='step', label='Method 1', color='blue')\n",
    "ax.hist(res_b2, bins=30, density=True, histtype='step', label='Method 2', color='red')\n",
    "ax.text(0.05, 0.81, textstr2, transform=ax.transAxes,\n",
    "       bbox=dict(facecolor='white', edgecolor='black'), size=12)\n",
    "ax.set_title('Trial 2')\n",
    "fig.text(0.5, -0.04, '$\\Delta E$ [Joules]', ha='center', size=20)\n",
    "plt.savefig('trial.png', dpi=200)\n",
    "plt.show()"
   ]
  },
  {
   "attachments": {},
   "cell_type": "markdown",
   "id": "d7a3f987",
   "metadata": {},
   "source": [
    "# 2D Plots"
   ]
  },
  {
   "attachments": {},
   "cell_type": "markdown",
   "id": "203e2b43",
   "metadata": {},
   "source": [
    "Generate some data"
   ]
  },
  {
   "cell_type": "code",
   "execution_count": null,
   "id": "ce9bb4e6",
   "metadata": {},
   "outputs": [],
   "source": [
    "plt.style.use(['default'])"
   ]
  },
  {
   "cell_type": "code",
   "execution_count": null,
   "id": "1a62af27",
   "metadata": {},
   "outputs": [],
   "source": [
    "_ = np.linspace(-1, 1, 100)\n",
    "x, y = np.meshgrid(_,_)\n",
    "z = x**2+x*y"
   ]
  },
  {
   "attachments": {},
   "cell_type": "markdown",
   "id": "90afe1f0",
   "metadata": {},
   "source": [
    "## Filled-in contour plots"
   ]
  },
  {
   "cell_type": "code",
   "execution_count": null,
   "id": "2fddc8c2",
   "metadata": {},
   "outputs": [],
   "source": [
    "plt.contourf(x,y,z)"
   ]
  },
  {
   "attachments": {},
   "cell_type": "markdown",
   "id": "b4c0e930",
   "metadata": {},
   "source": [
    "Can make them more dense ny changing `levels` and also can change colormap\n",
    "\n",
    "* See https://matplotlib.org/stable/tutorials/colors/colormaps.html#sphx-glr-tutorials-colors-colormaps-py\n",
    "\n",
    "Can use `vmin` and `vmax` to adjust the color range\n",
    "\n",
    "* See https://matplotlib.org/stable/api/_as_gen/matplotlib.pyplot.contour.html for all settings"
   ]
  },
  {
   "cell_type": "code",
   "execution_count": null,
   "id": "bfd1ea94",
   "metadata": {},
   "outputs": [],
   "source": [
    "plt.contourf(x,y,z, levels=50, cmap='plasma')\n",
    "plt.colorbar(label='Temperature [$^\\circ C$]')\n",
    "plt.xlabel('Horizontal Position [m]')\n",
    "plt.ylabel('Vertical Position [m]')"
   ]
  },
  {
   "attachments": {},
   "cell_type": "markdown",
   "id": "b5f4094a",
   "metadata": {},
   "source": [
    "## Contour Plot"
   ]
  },
  {
   "attachments": {},
   "cell_type": "markdown",
   "id": "5f4c43be",
   "metadata": {},
   "source": [
    "Sometimes, the following is preferred:"
   ]
  },
  {
   "cell_type": "code",
   "execution_count": null,
   "id": "0cf4c82e",
   "metadata": {},
   "outputs": [],
   "source": [
    "cs = plt.contour(x,y,z, levels=20)\n",
    "plt.clabel(cs, fontsize=8)"
   ]
  },
  {
   "attachments": {},
   "cell_type": "markdown",
   "id": "63df84ce",
   "metadata": {},
   "source": [
    "## 3D Surface Plot"
   ]
  },
  {
   "attachments": {},
   "cell_type": "markdown",
   "id": "cb6925bc",
   "metadata": {},
   "source": [
    "3D Surface Plot (Generally not preferred). However, they tend to work well in animations (we'll get to this later)"
   ]
  },
  {
   "cell_type": "code",
   "execution_count": null,
   "id": "26b26606",
   "metadata": {},
   "outputs": [],
   "source": [
    "fig, ax = plt.subplots(subplot_kw={\"projection\": \"3d\"})\n",
    "ax.plot_surface(x,y,z, cmap='coolwarm',\n",
    "                       linewidth=0, antialiased=False)\n",
    "ax.view_init(elev=10, azim=50)"
   ]
  },
  {
   "attachments": {},
   "cell_type": "markdown",
   "id": "5680da20",
   "metadata": {},
   "source": [
    "## StreamPlots"
   ]
  },
  {
   "attachments": {},
   "cell_type": "markdown",
   "id": "20f66a19",
   "metadata": {},
   "source": [
    "For plotting vector fields"
   ]
  },
  {
   "cell_type": "code",
   "execution_count": null,
   "id": "0399e94f",
   "metadata": {},
   "outputs": [],
   "source": [
    "w = 3\n",
    "_ = np.linspace(-3,3,100)\n",
    "X, Y = np.meshgrid(_,_)\n",
    "U = -1 - X**2 + Y\n",
    "V = 1 + X - Y**2\n",
    "speed = np.sqrt(U**2 + V**2)"
   ]
  },
  {
   "cell_type": "code",
   "execution_count": null,
   "id": "41ce8db2",
   "metadata": {},
   "outputs": [],
   "source": [
    "fig, axes = plt.subplots(2,2,figsize=(5,5))\n",
    "ax = axes[0][0]\n",
    "ax.streamplot(X, Y, U, V)\n",
    "ax = axes[0][1]\n",
    "ax.streamplot(X, Y, U, V, color=speed)\n",
    "ax = axes[1][0]\n",
    "lw = 5*speed / speed.max()\n",
    "ax.streamplot(X, Y, U, V, linewidth=lw)\n",
    "ax = axes[1][1]\n",
    "seed_points = np.array([[0,1], [1,0]])\n",
    "ax.streamplot(X, Y, U, V, color=U, linewidth=2,\n",
    "                      cmap='autumn', start_points=seed_points)\n",
    "ax.grid()"
   ]
  },
  {
   "attachments": {},
   "cell_type": "markdown",
   "id": "2d6185eb",
   "metadata": {},
   "source": [
    "# Image Reading"
   ]
  },
  {
   "cell_type": "code",
   "execution_count": null,
   "id": "92c89946",
   "metadata": {},
   "outputs": [],
   "source": [
    "im = plt.imread('Data/flower.png')"
   ]
  },
  {
   "attachments": {},
   "cell_type": "markdown",
   "id": "f405fc65",
   "metadata": {},
   "source": [
    "Plot image"
   ]
  },
  {
   "cell_type": "code",
   "execution_count": null,
   "id": "d67f8bd9",
   "metadata": {},
   "outputs": [],
   "source": [
    "plt.imshow(im)"
   ]
  },
  {
   "attachments": {},
   "cell_type": "markdown",
   "id": "ae86033a",
   "metadata": {},
   "source": [
    "# Animations"
   ]
  },
  {
   "attachments": {},
   "cell_type": "markdown",
   "id": "0bd6a2cc",
   "metadata": {},
   "source": [
    "Animations require relating the time of your problem to the frame of the animation, then specifying the frames per second\n",
    "\n",
    "* Below is a $\\sin$ wave moving at 3m/s. Translate this into an animation"
   ]
  },
  {
   "cell_type": "code",
   "execution_count": null,
   "id": "b5f1a99f",
   "metadata": {},
   "outputs": [],
   "source": [
    "def f(x,t):\n",
    "    return np.sin(x-3*t)\n",
    "\n",
    "x = np.linspace(0, 10*np.pi, 1000)\n",
    "t = np.arange(0, 24, 1/60)\n",
    "X, T = np.meshgrid(x, t)\n",
    "F = f(X, T)"
   ]
  },
  {
   "cell_type": "code",
   "execution_count": null,
   "id": "2f261829",
   "metadata": {},
   "outputs": [],
   "source": [
    "plt.plot(x, F[1])"
   ]
  },
  {
   "attachments": {},
   "cell_type": "markdown",
   "id": "5ec950ed",
   "metadata": {},
   "source": [
    "Create animation"
   ]
  },
  {
   "cell_type": "code",
   "execution_count": null,
   "id": "755dfa5f",
   "metadata": {},
   "outputs": [],
   "source": [
    "from matplotlib import animation\n",
    "from matplotlib.animation import PillowWriter"
   ]
  },
  {
   "cell_type": "code",
   "execution_count": null,
   "id": "b2b49950",
   "metadata": {},
   "outputs": [],
   "source": [
    "fig, ax = plt.subplots(1,1, figsize=(8,4))\n",
    "ln1, = plt.plot([], [])\n",
    "time_text = ax.text(0.65, 0.95, '', fontsize=15,\n",
    "                    bbox=dict(facecolor='white', edgecolor='black'), \n",
    "                    transform=ax.transAxes)\n",
    "ax.set_xlim(0,10*np.pi)\n",
    "ax.set_ylim(-1.5, 1.5)\n",
    "\n",
    "def animate(i):\n",
    "    ln1.set_data(x, F[i])\n",
    "    time_text.set_text('t={:.2f}'.format(i/60))\n",
    "    \n",
    "ani = animation.FuncAnimation(fig, animate, frames=240, interval=50)\n",
    "ani.save('Data/ani.gif',writer='pillow',fps=50,dpi=100)"
   ]
  },
  {
   "attachments": {},
   "cell_type": "markdown",
   "id": "bcb2e3b7",
   "metadata": {},
   "source": [
    "The animation function can be used in other ways too. One can create 3D rotating gifs of surfaces."
   ]
  },
  {
   "cell_type": "code",
   "execution_count": null,
   "id": "44357931",
   "metadata": {},
   "outputs": [],
   "source": [
    "_ = np.linspace(-1, 1, 100)\n",
    "x, y = np.meshgrid(_,_)\n",
    "z = x**2+x*y"
   ]
  },
  {
   "cell_type": "code",
   "execution_count": null,
   "id": "29e2dbff",
   "metadata": {},
   "outputs": [],
   "source": [
    "fig, ax = plt.subplots(subplot_kw={\"projection\": \"3d\"})\n",
    "ax.plot_surface(x,y,z, cmap='coolwarm',\n",
    "                       linewidth=0, antialiased=False)\n",
    "ax.view_init(elev=10, azim=0)\n",
    "\n",
    "def animate(i):\n",
    "    ax.view_init(elev=10, azim=3*i)\n",
    "    \n",
    "ani = animation.FuncAnimation(fig, animate, frames=120, interval=50)\n",
    "ani.save('Data/ani2.gif',writer='pillow',fps=30,dpi=100)"
   ]
  },
  {
   "cell_type": "code",
   "execution_count": null,
   "id": "6469a86f-d1d2-48c3-8be9-e4627dc236af",
   "metadata": {},
   "outputs": [],
   "source": []
  }
 ],
 "metadata": {
  "kernelspec": {
   "display_name": "Python 3 (ipykernel)",
   "language": "python",
   "name": "python3"
  },
  "language_info": {
   "codemirror_mode": {
    "name": "ipython",
    "version": 3
   },
   "file_extension": ".py",
   "mimetype": "text/x-python",
   "name": "python",
   "nbconvert_exporter": "python",
   "pygments_lexer": "ipython3",
   "version": "3.10.9"
  }
 },
 "nbformat": 4,
 "nbformat_minor": 5
}
