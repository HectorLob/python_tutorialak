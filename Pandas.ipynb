{
 "cells": [
  {
   "attachments": {},
   "cell_type": "markdown",
   "id": "0469f23e-056e-459c-ab64-2b4830ee4d71",
   "metadata": {},
   "source": [
    "# Pandas"
   ]
  },
  {
   "cell_type": "code",
   "execution_count": null,
   "id": "53a0d98a-03c0-450f-ac38-44e824e2482b",
   "metadata": {},
   "outputs": [],
   "source": [
    "import pandas as pd\n",
    "import numpy as np\n",
    "import matplotlib.pyplot as plt"
   ]
  },
  {
   "attachments": {},
   "cell_type": "markdown",
   "id": "b5fd0e78-19c2-47da-99ce-61c155d046e5",
   "metadata": {},
   "source": [
    "### Series"
   ]
  },
  {
   "cell_type": "code",
   "execution_count": null,
   "id": "2ef19dcf-63c0-4771-8512-567587230826",
   "metadata": {},
   "outputs": [],
   "source": [
    "my_list = [3, 4, 6, 8]\n",
    "serie = pd.Series(my_list)#,index=['a','b','c','d'], name = 'My list')"
   ]
  },
  {
   "cell_type": "code",
   "execution_count": null,
   "id": "81745cf6-342e-490b-a17f-142d3c04ba35",
   "metadata": {},
   "outputs": [],
   "source": [
    "serie"
   ]
  },
  {
   "cell_type": "code",
   "execution_count": null,
   "id": "1fa6d942-47c8-4a7e-a94f-c0e3a0782fbd",
   "metadata": {},
   "outputs": [],
   "source": [
    "serie.mean()"
   ]
  },
  {
   "cell_type": "code",
   "execution_count": null,
   "id": "45ebd157-7707-4336-81f4-c7ed2e2932fd",
   "metadata": {},
   "outputs": [],
   "source": [
    "serie.describe()"
   ]
  },
  {
   "cell_type": "code",
   "execution_count": null,
   "id": "d9216afb-59d4-4ebe-ba68-9058b2129304",
   "metadata": {},
   "outputs": [],
   "source": [
    "alturas_dict = {'Pepe':1.8, 'Juan':1.7, 'Ana':1.65}\n",
    "alturas_serie = pd.Series(alturas_dict)\n",
    "alturas_serie"
   ]
  },
  {
   "cell_type": "code",
   "execution_count": null,
   "id": "f687bfea-bdc7-4755-bb01-fe7d41b56cba",
   "metadata": {},
   "outputs": [],
   "source": [
    "alturas_serie.iloc[1]"
   ]
  },
  {
   "cell_type": "code",
   "execution_count": null,
   "id": "e0b3f1eb-8a05-402f-9832-1a3b58c76152",
   "metadata": {},
   "outputs": [],
   "source": [
    "alturas_serie.loc['Pepito'] = 1.5"
   ]
  },
  {
   "cell_type": "code",
   "execution_count": null,
   "id": "090ee917-f019-4b6a-b602-a7a7ae64c0ad",
   "metadata": {},
   "outputs": [],
   "source": [
    "alturas_serie"
   ]
  },
  {
   "cell_type": "code",
   "execution_count": null,
   "id": "f2245493-a360-4c42-95ed-08765848bb0b",
   "metadata": {},
   "outputs": [],
   "source": [
    "alturas_serie.index[np.argmin(alturas_serie)] # Quién mide menos?"
   ]
  },
  {
   "attachments": {},
   "cell_type": "markdown",
   "id": "15d0ed13-fb3d-430c-bfd9-96d9a34a403d",
   "metadata": {},
   "source": [
    "### DataFrames"
   ]
  },
  {
   "cell_type": "code",
   "execution_count": null,
   "id": "7aa59ef9-bf8d-4c85-a3f9-8e013907f335",
   "metadata": {},
   "outputs": [],
   "source": [
    "df = pd.DataFrame(index=range(5), columns =['1','2','3'])\n",
    "df"
   ]
  },
  {
   "cell_type": "code",
   "execution_count": null,
   "id": "72c04d61-4bf5-4a13-a79f-306d62266036",
   "metadata": {},
   "outputs": [],
   "source": [
    "df.info()"
   ]
  },
  {
   "cell_type": "code",
   "execution_count": null,
   "id": "2f7b2364-7925-4e8d-91a4-1fdf834ee1a1",
   "metadata": {},
   "outputs": [],
   "source": [
    "df = df.fillna(3)\n",
    "df"
   ]
  },
  {
   "cell_type": "code",
   "execution_count": null,
   "id": "63317af6-96bc-4b8f-8cba-9cf7e2c58563",
   "metadata": {},
   "outputs": [],
   "source": [
    "df.iloc[:,1]=1\n",
    "df"
   ]
  },
  {
   "cell_type": "code",
   "execution_count": null,
   "id": "e94e90d0-60bf-4d88-8889-f8e8b68d888f",
   "metadata": {},
   "outputs": [],
   "source": [
    "df.loc[:,'1']=2\n",
    "df"
   ]
  },
  {
   "cell_type": "code",
   "execution_count": null,
   "id": "28d54b29-69b0-4dab-a16e-45bd97b6bc3a",
   "metadata": {},
   "outputs": [],
   "source": [
    "df.iloc[np.arange(4),1] = 5\n",
    "df"
   ]
  },
  {
   "cell_type": "code",
   "execution_count": null,
   "id": "9cb7035e-8894-4ba1-84ec-cdd48da78439",
   "metadata": {},
   "outputs": [],
   "source": [
    "df.info()"
   ]
  },
  {
   "cell_type": "code",
   "execution_count": null,
   "id": "588ae9e4-73ee-47ca-818f-aae9190bff38",
   "metadata": {},
   "outputs": [],
   "source": [
    "df.drop(0)"
   ]
  },
  {
   "cell_type": "code",
   "execution_count": null,
   "id": "49f7d474-77ed-4ac5-ab2d-e26df2f11acb",
   "metadata": {},
   "outputs": [],
   "source": [
    "df.drop(columns=['1'])"
   ]
  },
  {
   "attachments": {},
   "cell_type": "markdown",
   "id": "b1a78c93-8df8-4d40-b0f6-04c5362d7506",
   "metadata": {},
   "source": [
    "### Os module:"
   ]
  },
  {
   "cell_type": "code",
   "execution_count": null,
   "id": "1c49e6a3",
   "metadata": {},
   "outputs": [],
   "source": [
    "import os \n",
    "import sys\n",
    "if 'google.colab' in sys.modules:\n",
    "  !git clone https://github.com/HectorLob/python_tutorialak"
   ]
  },
  {
   "cell_type": "code",
   "execution_count": null,
   "id": "73096331-6a7c-49ff-9c64-84d65c88021d",
   "metadata": {},
   "outputs": [],
   "source": [
    "os.getcwd() # Get current working directory"
   ]
  },
  {
   "cell_type": "code",
   "execution_count": null,
   "id": "2dc5d61e",
   "metadata": {},
   "outputs": [],
   "source": [
    "os.listdir() # List directory"
   ]
  },
  {
   "cell_type": "code",
   "execution_count": null,
   "id": "e88d2c23-f0dd-48a3-b4ec-bf6dad2bb1df",
   "metadata": {},
   "outputs": [],
   "source": [
    "if 'google.colab' in sys.modules:\n",
    "    data_path = '/content/python_tutorialak/Data'\n",
    "else:\n",
    "    data_path = 'Data'\n",
    "\n",
    "file_list = os.listdir(data_path)\n",
    "file_list"
   ]
  },
  {
   "cell_type": "code",
   "execution_count": null,
   "id": "65bae746",
   "metadata": {},
   "outputs": [],
   "source": [
    "csv_list = [file for file in file_list if file.endswith('.csv')]\n",
    "csv_list"
   ]
  },
  {
   "cell_type": "code",
   "execution_count": null,
   "id": "02a829b2-189b-46d2-b298-9557a0c342ec",
   "metadata": {},
   "outputs": [],
   "source": [
    "file = 'XP034-BX-01-30-PostProcessed.csv'\n",
    "file_path = os.path.join(data_path, file) # o os.path.join(path, 'Data', file)\n",
    "file_path"
   ]
  },
  {
   "cell_type": "code",
   "execution_count": null,
   "id": "ac086526-47db-4708-a8ef-9bfeabef5a2e",
   "metadata": {},
   "outputs": [],
   "source": [
    "a = pd.read_csv(file_path)\n",
    "a.head(20)"
   ]
  },
  {
   "cell_type": "code",
   "execution_count": null,
   "id": "2ac62d5a-9d91-4182-891a-af99568192ae",
   "metadata": {},
   "outputs": [],
   "source": [
    "df = pd.read_csv(file_path, delimiter=';', skiprows=10) \n",
    "df"
   ]
  },
  {
   "cell_type": "code",
   "execution_count": null,
   "id": "1819a1a8-5588-488f-9eea-2246cae7af71",
   "metadata": {},
   "outputs": [],
   "source": [
    "df.index"
   ]
  },
  {
   "cell_type": "code",
   "execution_count": null,
   "id": "c8b580db-29b8-4d78-878c-c384f8fff132",
   "metadata": {},
   "outputs": [],
   "source": [
    "df.set_index('Time [s]')"
   ]
  },
  {
   "cell_type": "code",
   "execution_count": null,
   "id": "7b8c3fd9-5c9d-4487-bfb2-2f3e41723e6a",
   "metadata": {},
   "outputs": [],
   "source": [
    "df # Lo cambia pero no guarda los cambios si no se lo decimos"
   ]
  },
  {
   "cell_type": "code",
   "execution_count": null,
   "id": "cf92514c-b2bb-46fa-86df-82ea7881305d",
   "metadata": {},
   "outputs": [],
   "source": [
    "df.set_index('Time [s]', inplace=True)\n",
    "df\n",
    "\n",
    "# o df = df.set_index('Time [s]')"
   ]
  },
  {
   "cell_type": "code",
   "execution_count": null,
   "id": "3e125b32-94a3-47ad-a61c-2c3c80c1763d",
   "metadata": {},
   "outputs": [],
   "source": [
    "df.info()"
   ]
  },
  {
   "cell_type": "code",
   "execution_count": null,
   "id": "5082f25a-730b-4db4-9d11-e54b4021b2b0",
   "metadata": {},
   "outputs": [],
   "source": [
    "df.describe()"
   ]
  },
  {
   "cell_type": "code",
   "execution_count": null,
   "id": "a143e384-4603-459e-8a65-5530c6e56199",
   "metadata": {},
   "outputs": [],
   "source": [
    "df.isnull().sum()"
   ]
  },
  {
   "cell_type": "code",
   "execution_count": null,
   "id": "7b28a350-7ae7-4aa1-998a-6badf1eb925d",
   "metadata": {},
   "outputs": [],
   "source": [
    "df.reset_index(inplace=True)\n",
    "df"
   ]
  },
  {
   "cell_type": "code",
   "execution_count": null,
   "id": "2beec8ef-a0a4-434c-816b-6f2e52e1d000",
   "metadata": {},
   "outputs": [],
   "source": [
    "df.loc[0]"
   ]
  },
  {
   "cell_type": "code",
   "execution_count": null,
   "id": "2dcce4ac-8e88-4784-874a-487007b251b0",
   "metadata": {},
   "outputs": [],
   "source": [
    "df.loc[[0,1,6]]"
   ]
  },
  {
   "cell_type": "code",
   "execution_count": null,
   "id": "529513c4-8849-413d-bb0f-20e0ac713a29",
   "metadata": {},
   "outputs": [],
   "source": [
    "df.loc[np.arange(4,25,2)]"
   ]
  },
  {
   "cell_type": "code",
   "execution_count": null,
   "id": "f0afefe9-44dc-46ba-8e50-806e4b8a655e",
   "metadata": {},
   "outputs": [],
   "source": [
    "df.iloc[:,2]"
   ]
  },
  {
   "cell_type": "code",
   "execution_count": null,
   "id": "dc610f4c-22e1-41c2-87b4-e2f526d3932d",
   "metadata": {},
   "outputs": [],
   "source": [
    "df['Count Cycles'].unique()"
   ]
  },
  {
   "cell_type": "code",
   "execution_count": null,
   "id": "ae052172-7a04-4081-b606-069f5d4ede2c",
   "metadata": {},
   "outputs": [],
   "source": [
    "df['Count Cycles'] == 5"
   ]
  },
  {
   "cell_type": "code",
   "execution_count": null,
   "id": "74300c85-9634-4029-9c2f-f22b89f2ced0",
   "metadata": {},
   "outputs": [],
   "source": [
    "df[df['Count Cycles'] == 5]"
   ]
  },
  {
   "cell_type": "code",
   "execution_count": null,
   "id": "365c485d",
   "metadata": {},
   "outputs": [],
   "source": [
    "df[df['Count Cycles'] != 5]"
   ]
  },
  {
   "cell_type": "code",
   "execution_count": null,
   "id": "485014dd-21eb-4654-9bab-47164848f85b",
   "metadata": {},
   "outputs": [],
   "source": [
    "df['Engineering Stress (A-axis) [Pa]'] = df['Engineering Stress (A-axis) [MPa]'].apply(lambda x: x*10**6)\n",
    "df"
   ]
  },
  {
   "cell_type": "code",
   "execution_count": null,
   "id": "87fddc5c-7f16-41e9-b0dc-0b9b0d2b165b",
   "metadata": {},
   "outputs": [],
   "source": [
    "x = df['Engineering Strain (A-axis) [/1]']\n",
    "y = df['Engineering Stress (A-axis) [MPa]']\n",
    "\n",
    "plt.plot(x,y)\n",
    "plt.show()"
   ]
  },
  {
   "cell_type": "code",
   "execution_count": null,
   "id": "81973ff8-c5b2-4792-a31e-0fe8b4082564",
   "metadata": {},
   "outputs": [],
   "source": [
    "from matplotlib import colormaps\n",
    "cmap = colormaps['viridis'] # https://matplotlib.org/stable/tutorials/colors/colormaps.html\n",
    "cycle_list = df['Count Cycles'].unique()\n",
    "colors = [cmap(i) for i in np.linspace(0, 1, len(cycle_list))]\n",
    "\n",
    "plt.figure(figsize=(10,8))\n",
    "\n",
    "for i, cycle in enumerate(cycle_list):\n",
    "    df_cycle = df[df['Count Cycles'] == cycle]\n",
    "    plt.plot(df_cycle['Engineering Strain (A-axis) [/1]'], df_cycle['Engineering Stress (A-axis) [MPa]'], label=cycle, color=colors[i])\n",
    "plt.legend()\n",
    "plt.xlabel('Engineering Strain (A-axis) [/1]', fontsize=14)\n",
    "plt.ylabel('Engineering Stress (A-axis) [MPa]', fontsize=14)\n",
    "plt.title('Stress-Strain Curve by cycle', fontsize=16)\n",
    "plt.grid()\n",
    "plt.show()"
   ]
  },
  {
   "cell_type": "code",
   "execution_count": null,
   "id": "fb3752b5",
   "metadata": {},
   "outputs": [],
   "source": []
  }
 ],
 "metadata": {
  "kernelspec": {
   "display_name": "Python 3 (ipykernel)",
   "language": "python",
   "name": "python3"
  },
  "language_info": {
   "codemirror_mode": {
    "name": "ipython",
    "version": 3
   },
   "file_extension": ".py",
   "mimetype": "text/x-python",
   "name": "python",
   "nbconvert_exporter": "python",
   "pygments_lexer": "ipython3",
   "version": "3.10.9"
  }
 },
 "nbformat": 4,
 "nbformat_minor": 5
}
